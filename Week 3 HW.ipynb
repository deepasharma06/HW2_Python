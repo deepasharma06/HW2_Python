{
 "cells": [
  {
   "cell_type": "markdown",
   "id": "0f7c801b",
   "metadata": {},
   "source": [
    " <b> Problem 1:\n",
    "The weights of steers in a herd are distributed normally.  The variance is 40,000 and the mean steer weight is 1300 lbs.  Find the probability that the weight of a randomly selected steer is greater than 979 lbs. (Round your answer to 4 decimal places)\n",
    "\n"
   ]
  },
  {
   "cell_type": "code",
   "execution_count": 2,
   "id": "9b414edf",
   "metadata": {},
   "outputs": [],
   "source": [
    "#  Problem 1\n",
    "from scipy.stats import norm\n",
    "from scipy.stats import binom as b\n",
    "from scipy.stats import t\n",
    "import matplotlib.pyplot as plt\n",
    "import numpy as np\n"
   ]
  },
  {
   "cell_type": "code",
   "execution_count": 80,
   "id": "1c77dcf1",
   "metadata": {},
   "outputs": [
    {
     "name": "stdout",
     "output_type": "stream",
     "text": [
      "0.9458\n"
     ]
    }
   ],
   "source": [
    "x = 1-norm.cdf(979,loc = 1300, scale = 200)                       \n",
    "output = round(x,4)  \n",
    "print (output)"
   ]
  },
  {
   "cell_type": "code",
   "execution_count": 72,
   "id": "08cd46b8",
   "metadata": {
    "scrolled": true
   },
   "outputs": [
    {
     "data": {
      "text/plain": [
       "(array([6.88858814e-05, 2.23879114e-04, 7.49133960e-04, 1.42938204e-03,\n",
       "        1.79964365e-03, 1.89436174e-03, 1.36910689e-03, 8.26630576e-04,\n",
       "        1.89436174e-04, 6.02751462e-05]),\n",
       " array([ 734.46293977,  850.59704219,  966.7311446 , 1082.86524701,\n",
       "        1198.99934943, 1315.13345184, 1431.26755425, 1547.40165666,\n",
       "        1663.53575908, 1779.66986149, 1895.8039639 ]),\n",
       " <BarContainer object of 10 artists>)"
      ]
     },
     "execution_count": 72,
     "metadata": {},
     "output_type": "execute_result"
    },
    {
     "data": {
      "image/png": "[encoded data removed]",
      "text/plain": [
       "<Figure size 432x288 with 1 Axes>"
      ]
     },
     "metadata": {
      "needs_background": "light"
     },
     "output_type": "display_data"
    }
   ],
   "source": [
    "fig, ax = plt.subplots(1,1)\n",
    "\n",
    "r = norm.rvs (size = 1000, loc = 1300, scale = 200)\n",
    "\n",
    "ax.hist(r, density = True)"
   ]
  },
  {
   "cell_type": "markdown",
   "id": "cbaf62aa",
   "metadata": {},
   "source": [
    "<b> Problem 2:\n",
    "    SVGA monitors manufactured by TSI Electronics have life spans that have a normal distribution with a variance of 1,960,000 and a mean life span of 11,000 hours.  If a SVGA monitor is selected at random, find the probability that the life span of the monitor will be more than 8340 hours. (Round your answer to 4 decimal places)"
   ]
  },
  {
   "cell_type": "code",
   "execution_count": 81,
   "id": "92c86069",
   "metadata": {},
   "outputs": [
    {
     "name": "stdout",
     "output_type": "stream",
     "text": [
      "0.9713\n"
     ]
    }
   ],
   "source": [
    "#Problem 2\n",
    "x = 1-norm.cdf(8340,loc = 11000, scale = 1400)\n",
    "output = round(x,4)  \n",
    "print (output)"
   ]
  },
  {
   "cell_type": "code",
   "execution_count": 6,
   "id": "a2ac1bc9",
   "metadata": {},
   "outputs": [
    {
     "data": {
      "text/plain": [
       "(array([1.43417386e-05, 2.98786221e-05, 1.33856227e-04, 2.11540644e-04,\n",
       "        2.85639627e-04, 2.43809556e-04, 1.68515429e-04, 7.64892726e-05,\n",
       "        2.39028977e-05, 7.17086930e-06]),\n",
       " array([ 7043.85586117,  7880.57449961,  8717.29313804,  9554.01177648,\n",
       "        10390.73041491, 11227.44905335, 12064.16769178, 12900.88633022,\n",
       "        13737.60496865, 14574.32360709, 15411.04224552]),\n",
       " <BarContainer object of 10 artists>)"
      ]
     },
     "execution_count": 6,
     "metadata": {},
     "output_type": "execute_result"
    },
    {
     "data": {
      "image/png": "[encoded data removed]",
      "text/plain": [
       "<Figure size 432x288 with 1 Axes>"
      ]
     },
     "metadata": {
      "needs_background": "light"
     },
     "output_type": "display_data"
    }
   ],
   "source": [
    "# trying graph for fun\n",
    "fig, ax = plt.subplots(1,1)\n",
    "\n",
    "r = norm.rvs (size = 1000, loc = 11000, scale = 1400)\n",
    "\n",
    "ax.hist(r, density = True)"
   ]
  },
  {
   "cell_type": "markdown",
   "id": "fe2bd500",
   "metadata": {},
   "source": [
    "<b> Problem 3:\n",
    "    Suppose the mean income of firms in the industry for a year is 80 million dollars with a standard deviation of 3 million dollars.  If incomes for the industry are distributed normally, what is the probability that a randomly selected firm will earn between 83 and 85 million dollars? (Round your answer to 4 decimal places)\n",
    "    \n",
    "    "
   ]
  },
  {
   "cell_type": "code",
   "execution_count": 82,
   "id": "ce4f3a0c",
   "metadata": {},
   "outputs": [
    {
     "name": "stdout",
     "output_type": "stream",
     "text": [
      "0.1109\n"
     ]
    }
   ],
   "source": [
    "# Problem 3\n",
    "\n",
    "x = norm.cdf(85,loc = 80, scale = 3) - norm.cdf(83, loc = 80, scale = 3)\n",
    "\n",
    "output = round(x,4)  \n",
    "print (output)"
   ]
  },
  {
   "cell_type": "markdown",
   "id": "31e0826e",
   "metadata": {},
   "source": [
    "\n",
    "\n",
    "<b> Problem 4:\n",
    "  Suppose GRE Verbal scores are normally distributed with a mean of 456 and a standard deviation of 123.  A university plans to offer tutoring jobs to students whose scores are in the top 14%.  What is the minimum score required for the job offer?  Round your answer to the nearest whole number, if necessary.\n",
    "    \n",
    "    "
   ]
  },
  {
   "cell_type": "code",
   "execution_count": 103,
   "id": "13fcbc61",
   "metadata": {},
   "outputs": [
    {
     "data": {
      "text/plain": [
       "638"
      ]
     },
     "execution_count": 103,
     "metadata": {},
     "output_type": "execute_result"
    }
   ],
   "source": [
    "# Problem 4\n",
    "#norm.ppf(0.93) top 14% mean is 86 % confidenc level\n",
    "\n",
    "x = norm.ppf(0.93)*123+456\n",
    "import math\n",
    "\n",
    "math.ceil(x)\n",
    "\n"
   ]
  },
  {
   "cell_type": "markdown",
   "id": "5d93317d",
   "metadata": {},
   "source": [
    "<b> Problem 5:\n",
    "The lengths of nails produced in a factory are normally distributed with a mean of 6.13 centimeters and a standard deviation of 0.06 centimeters.  Find the two lengths that separate the top 7% and the bottom 7%.  These lengths could serve as limits used to identify which nails should be rejected.  Round your answer to the nearest hundredth, if necessary.\n",
    "\n"
   ]
  },
  {
   "cell_type": "code",
   "execution_count": 83,
   "id": "56881b20",
   "metadata": {},
   "outputs": [
    {
     "name": "stdout",
     "output_type": "stream",
     "text": [
      "6.041452538309249 \n",
      " 6.218547461690751\n"
     ]
    },
    {
     "ename": "TypeError",
     "evalue": "type NoneType doesn't define __round__ method",
     "output_type": "error",
     "traceback": [
      "\u001b[1;31m---------------------------------------------------------------------------\u001b[0m",
      "\u001b[1;31mTypeError\u001b[0m                                 Traceback (most recent call last)",
      "\u001b[1;32m~\\AppData\\Local\\Temp/ipykernel_11608/3735514014.py\u001b[0m in \u001b[0;36m<module>\u001b[1;34m\u001b[0m\n\u001b[0;32m      1\u001b[0m \u001b[1;31m#Problem 5\u001b[0m\u001b[1;33m\u001b[0m\u001b[1;33m\u001b[0m\u001b[0m\n\u001b[0;32m      2\u001b[0m \u001b[0mx\u001b[0m \u001b[1;33m=\u001b[0m \u001b[0mprint\u001b[0m\u001b[1;33m(\u001b[0m\u001b[0mnorm\u001b[0m\u001b[1;33m.\u001b[0m\u001b[0mppf\u001b[0m\u001b[1;33m(\u001b[0m\u001b[1;36m.07\u001b[0m\u001b[1;33m,\u001b[0m\u001b[1;36m6.13\u001b[0m\u001b[1;33m,\u001b[0m\u001b[1;36m.06\u001b[0m\u001b[1;33m)\u001b[0m\u001b[1;33m,\u001b[0m \u001b[1;34m\"\\n\"\u001b[0m\u001b[1;33m,\u001b[0m\u001b[0mnorm\u001b[0m\u001b[1;33m.\u001b[0m\u001b[0mppf\u001b[0m\u001b[1;33m(\u001b[0m\u001b[1;36m.93\u001b[0m\u001b[1;33m,\u001b[0m\u001b[1;36m6.13\u001b[0m\u001b[1;33m,\u001b[0m\u001b[1;36m.06\u001b[0m\u001b[1;33m)\u001b[0m\u001b[1;33m)\u001b[0m\u001b[1;33m\u001b[0m\u001b[1;33m\u001b[0m\u001b[0m\n\u001b[1;32m----> 3\u001b[1;33m \u001b[0moutput\u001b[0m \u001b[1;33m=\u001b[0m \u001b[0mround\u001b[0m\u001b[1;33m(\u001b[0m\u001b[0mx\u001b[0m\u001b[1;33m,\u001b[0m\u001b[1;36m100\u001b[0m\u001b[1;33m)\u001b[0m\u001b[1;33m\u001b[0m\u001b[1;33m\u001b[0m\u001b[0m\n\u001b[0m\u001b[0;32m      4\u001b[0m \u001b[0mprint\u001b[0m \u001b[1;33m(\u001b[0m\u001b[0moutput\u001b[0m\u001b[1;33m)\u001b[0m\u001b[1;33m\u001b[0m\u001b[1;33m\u001b[0m\u001b[0m\n",
      "\u001b[1;31mTypeError\u001b[0m: type NoneType doesn't define __round__ method"
     ]
    }
   ],
   "source": [
    "#Problem 5\n",
    "x = print(norm.ppf(.07,6.13,.06), \"\\n\",norm.ppf(.93,6.13,.06))\n"
   ]
  },
  {
   "cell_type": "markdown",
   "id": "356c4fe9",
   "metadata": {},
   "source": [
    "<b> Problem 6:\n",
    "An English professor assigns letter grades on a test according to the following scheme.\n",
    "\t\n",
    "    1. Top 13% of scores\n",
    "\t2. Scores below the top 13% and above the bottom 55%\n",
    "\t3. Scores below the top 45% and above the bottom 20%\n",
    "\t4. Scores below the top 80% and above the bottom 9%\n",
    "\t5. Bottom 9% of scores\n",
    "\n",
    "     Scores on the test are normally distributed with a mean of 78.8 and a standard deviation of 9.8.  Find the numerical limits for a C grade.  Round your answers to the nearest whole number, if necessary.\n",
    "\n",
    "    "
   ]
  },
  {
   "cell_type": "code",
   "execution_count": 30,
   "id": "98218c04",
   "metadata": {},
   "outputs": [
    {
     "name": "stdout",
     "output_type": "stream",
     "text": [
      "77.56851880082027 \n",
      " 85.4099995519216\n"
     ]
    }
   ],
   "source": [
    "# problem 6\n",
    "print(norm.ppf(.45,78.8,9.8), \"\\n\",norm.ppf(.75,78.8,9.8))\n",
    "\n"
   ]
  },
  {
   "cell_type": "markdown",
   "id": "3cb70899",
   "metadata": {},
   "source": [
    "<b> Problem 7:\n",
    "Suppose ACT Composite scores are normally distributed with a mean of 21.2 and a standard deviation of 5.4.  A university plans to admit students whose scores are in the top 45%.  What is the minimum score required for admission?  Round your answer to the nearest tenth, if necessary.\n",
    "\n"
   ]
  },
  {
   "cell_type": "code",
   "execution_count": 87,
   "id": "21dd4240",
   "metadata": {},
   "outputs": [
    {
     "data": {
      "text/plain": [
       "25.189772985600154"
      ]
     },
     "execution_count": 87,
     "metadata": {},
     "output_type": "execute_result"
    }
   ],
   "source": [
    "# Problem 7\n",
    "norm.ppf(0.77)*5.4+21.2\n"
   ]
  },
  {
   "cell_type": "markdown",
   "id": "95c8e9c5",
   "metadata": {},
   "source": [
    "<b> problem 8:\n",
    "Consider the probability that less than 11 out of 151 students will not graduate on time.  Assume the probability that a given student will not graduate on time is 9%.  Approximate the probability using the normal distribution. (Round your answer to 4 decimal places.)\n"
   ]
  },
  {
   "cell_type": "code",
   "execution_count": 142,
   "id": "1dd78285",
   "metadata": {},
   "outputs": [
    {
     "name": "stdout",
     "output_type": "stream",
     "text": [
      "83.6797\n"
     ]
    }
   ],
   "source": [
    "#Problem 8 not\n",
    "  \n",
    "x = norm.ppf((12/151)+0.9)/np.sqrt(0.9*(1-.9)/151)\n",
    "output = round(x,4)\n",
    "print (output)\n"
   ]
  },
  {
   "cell_type": "markdown",
   "id": "4a2247c0",
   "metadata": {},
   "source": [
    "<b> Problem 9:\n",
    "The mean lifetime of a tire is 48 months with a standard deviation of 7.  If 147 tires are sampled, what is the probability that the mean of the sample would be greater than 48.83 months? (Round your answer to 4 decimal places)\n",
    "\n"
   ]
  },
  {
   "cell_type": "code",
   "execution_count": 122,
   "id": "2d051bde",
   "metadata": {},
   "outputs": [
    {
     "name": "stdout",
     "output_type": "stream",
     "text": [
      "0.4528\n"
     ]
    }
   ],
   "source": [
    "# Problem 9\n",
    "\n",
    "x = 1-norm.cdf(48.83,loc = 48, scale = 7)\n",
    "output = round(x,4)  \n",
    "print (output)"
   ]
  },
  {
   "cell_type": "markdown",
   "id": "dda8f1be",
   "metadata": {},
   "source": [
    "<b> Problem 10:\n",
    "The quality control manager at a computer manufacturing company believes that the mean life of a computer is 91 months, with a standard deviation of 10.  If he is correct, what is the probability that the mean of a sample of 68 computers would be greater than 93.54 months? (Round your answer to 4 decimal places)\n",
    "\n"
   ]
  },
  {
   "cell_type": "code",
   "execution_count": 105,
   "id": "58a7d62b",
   "metadata": {},
   "outputs": [
    {
     "name": "stdout",
     "output_type": "stream",
     "text": [
      "0.0181\n"
     ]
    }
   ],
   "source": [
    "# problem 10\n",
    "x = 1-norm.cdf(93.54,91,10/np.sqrt(68))\n",
    "output = round(x,4)  \n",
    "print (output)"
   ]
  },
  {
   "cell_type": "markdown",
   "id": "6936d68a",
   "metadata": {},
   "source": [
    "<b> Problem 11:\n",
    "A director of reservations believes that 7% of the ticketed passengers are no-shows.  If the director is right, what is the probability that the proportion of no-shows in a sample of 540 ticketed passengers would differ from the population proportion by less than 3%? (Round your answer to 4 decimal places)\n",
    "\n",
    "\n"
   ]
  },
  {
   "cell_type": "code",
   "execution_count": 91,
   "id": "6d9bb6d3",
   "metadata": {},
   "outputs": [
    {
     "name": "stdout",
     "output_type": "stream",
     "text": [
      "0.9963\n"
     ]
    }
   ],
   "source": [
    "# Problem 11\n",
    "#p(.04<pbar<.10)\n",
    "x = (b.cdf(.10*540,540,.07)-b.cdf(.04*54,540,.07))\n",
    "output = round(x,4)  \n",
    "print (output)"
   ]
  },
  {
   "cell_type": "markdown",
   "id": "63305935",
   "metadata": {},
   "source": [
    "<b> Problem 12:\n",
    "A bottle maker believes that 23% of his bottles are defective.  If the bottle maker is accurate, what is the probability that the proportion of defective bottles in a sample of 602 bottles would differ from the population proportion by greater than 4%? (Round your answer to 4 decimal places)\n",
    "\n"
   ]
  },
  {
   "cell_type": "code",
   "execution_count": 38,
   "id": "7d22e17d",
   "metadata": {},
   "outputs": [
    {
     "ename": "SyntaxError",
     "evalue": "cannot assign to literal (Temp/ipykernel_11608/2575436211.py, line 3)",
     "output_type": "error",
     "traceback": [
      "\u001b[1;36m  File \u001b[1;32m\"C:\\Users\\dkbs0\\AppData\\Local\\Temp/ipykernel_11608/2575436211.py\"\u001b[1;36m, line \u001b[1;32m3\u001b[0m\n\u001b[1;33m    p = .23 = meu\u001b[0m\n\u001b[1;37m        ^\u001b[0m\n\u001b[1;31mSyntaxError\u001b[0m\u001b[1;31m:\u001b[0m cannot assign to literal\n"
     ]
    }
   ],
   "source": [
    "# Problem 12 not sure how to put in code\n",
    "\n",
    "A bottle maker believes that 23% of his bottles are defective.\n",
    "\n",
    "This means that p = 0.23\n",
    "\n",
    "Sample of 602 bottles\n",
    "\n",
    "This means that n = 602\n",
    "\n",
    "Mean and standard deviation:\n",
    "\n",
    "\\mu = p = 0.23\n",
    "\n",
    "s = \\sqrt{\\frac{p(1-p)}{n}} = \\sqrt{\\frac{0.23*0.77}{602}} = 0.0172\n",
    "\n",
    "What is the probability that the proportion of defective bottles in a sample of 602 bottles would differ from the population proportion by less than 4%?\n",
    "\n",
    "p-value of Z when X = 0.23 + 0.04 = 0.27 subtracted by the p-value of Z when X = 0.23 – 0.04 = 0.19.\n",
    "\n",
    "X = 0.27\n",
    "\n",
    "Z = \\frac{X - \\mu}{\\sigma}\n",
    "\n",
    "By the Central Limit Theorem\n",
    "\n",
    "Z = \\frac{X - \\mu}{s}\n",
    "\n",
    "Z = \\frac{0.27 - 0.23}{0.0172}\n",
    "\n",
    "Z = 2.33\n",
    "\n",
    "Z = 2.33 has a p-value of 0.9901\n",
    "\n",
    "X = 0.19\n",
    "\n",
    "Z = \\frac{X - \\mu}{s}\n",
    "\n",
    "Z = \\frac{0.19 - 0.23}{0.0172}\n",
    "\n",
    "Z = -2.33\n",
    "\n",
    "Z = -2.33 has a p-value of 0.0099\n",
    "\n",
    "0.9901 – 0.0099 = 0.9802\n",
    "\n",
    "0.9802 = 98.02% probability that the proportion of defective bottles in a sample of 602 bottles would differ from the population proportion by less than 4%\n",
    "\n"
   ]
  },
  {
   "cell_type": "markdown",
   "id": "13796464",
   "metadata": {},
   "source": [
    "<b> Problem 13:\n",
    "A research company desires to know the mean consumption of beef per week among males over age 48.  Suppose a sample of size 208 is drawn with x ̅  = 3.9.  Assume ® = 0.8 .  Construct the 80% confidence interval for the mean number of lb. of beef per week among males over 48. (Round your answers to 1 decimal place) \n",
    "Lower Bound:\n",
    "Upper Bound:\n",
    "    "
   ]
  },
  {
   "cell_type": "code",
   "execution_count": 97,
   "id": "003140f4",
   "metadata": {},
   "outputs": [
    {
     "name": "stdout",
     "output_type": "stream",
     "text": [
      "3.828912309511966 3.9710876904880337\n"
     ]
    }
   ],
   "source": [
    "# Problem 13 \n",
    "print(norm.ppf(.1,3.9,.8/np.sqrt(208)),norm.ppf(.9,3.9,.8/np.sqrt(208)))\n"
   ]
  },
  {
   "cell_type": "markdown",
   "id": "c812cc95",
   "metadata": {},
   "source": [
    "<b> Problem 14:\n",
    "An economist wants to estimate the mean per capita income (in thousands of dollars) in a major city in California.  Suppose a sample of size 7472 is drawn with x ̅  = 16.6.  Assume ® = 11 .  Construct the 98% confidence interval for the mean per capita income. (Round your answers to 1 decimal place) \n",
    "    Lower Bound:\n",
    "    Upper Bound:\n",
    "    "
   ]
  },
  {
   "cell_type": "code",
   "execution_count": 18,
   "id": "dd77d83f",
   "metadata": {},
   "outputs": [
    {
     "name": "stdout",
     "output_type": "stream",
     "text": [
      "16.303961011469998 16.896038988530005\n"
     ]
    }
   ],
   "source": [
    "#Problem 14 \n",
    "print(norm.ppf(.01,16.6,11/np.sqrt(7472)),norm.ppf(.99,16.6,11/np.sqrt(7472)))"
   ]
  },
  {
   "cell_type": "markdown",
   "id": "d23f9762",
   "metadata": {},
   "source": [
    "<b> problem 15:\n",
    "Find the value of t such that 0.05 of the area under the curve is to the left of t.  Assume the degrees of freedom equals 26.\n",
    "\n",
    "    Step 1. Choose the picture which best describes the problem.\n",
    "    Step 2. Write your answer below.\n"
   ]
  },
  {
   "cell_type": "code",
   "execution_count": 19,
   "id": "11834fac",
   "metadata": {},
   "outputs": [
    {
     "data": {
      "text/plain": [
       "-1.7056179197592731"
      ]
     },
     "execution_count": 19,
     "metadata": {},
     "output_type": "execute_result"
    }
   ],
   "source": [
    "# Problem 15\n",
    "#Find t value\n",
    "import scipy.stats\n",
    "scipy.stats.t.ppf(q=.05,df=26)"
   ]
  },
  {
   "attachments": {
    "Screenshot%202022-01-23%20203834.png": {
     "image/png": "[encoded data removed]"
    }
   },
   "cell_type": "markdown",
   "id": "7ba1ceba",
   "metadata": {},
   "source": [
    "#Problem 15 Step 1 (inset picture) and step 2\n",
    "  #Step 2. Write your answer below. \n",
    "  ![Screenshot%202022-01-23%20203834.png](attachment:Screenshot%202022-01-23%20203834.png)\n",
    "    \n",
    "    I choose the 2nd picture because the value of t should be on the left as per the question. Also t = -1.7 which would be on the left represented by the green shaded area."
   ]
  },
  {
   "cell_type": "markdown",
   "id": "b126c88b",
   "metadata": {},
   "source": [
    "<b> Problem 16:\n",
    "The following measurements ( in picocuries per liter ) were recorded by a set of helium gas detectors installed in a laboratory facility:  \n",
    "\t                                             383.6, 347.1, 371.9, 347.6, 325.8, 337\n",
    "\tUsing these measurements, construct a 90% confidence interval for the mean level of helium gas present in the facility.  Assume the population is normally distributed.  \n",
    "\n",
    "    Step 1. Calculate the sample mean for the given sample data. (Round answer to 2 decimal places) \n",
    "    Step 2. Calculate the sample standard deviation for the given sample data. (Round answer to 2 decimal places) \n",
    "    Step 3. Find the critical value that should be used in constructing the confidence interval. (Round answer to 3 decimal places) \n",
    "    Step 4. Construct the 90% confidence interval. (Round answer to 2 decimal places\n",
    "    \n",
    "        Lower Bound:\n",
    "        Upper Bound:\n",
    "                                                       \n"
   ]
  },
  {
   "cell_type": "code",
   "execution_count": 100,
   "id": "235ce3a9",
   "metadata": {},
   "outputs": [
    {
     "name": "stdout",
     "output_type": "stream",
     "text": [
      "334.33524059559835 , 369.998092737735\n"
     ]
    }
   ],
   "source": [
    "#Problem 16\n",
    "data = (383.6,347.1,371.9,347.6,325.8,337)\n",
    "mymean = np.mean(data)\n",
    "mysd = np.std(data,ddof=1)\n",
    "tvalue = t.ppf(.95,5)\n",
    "lower = mymean-tvalue*mysd/6**.5\n",
    "upper = mymean+tvalue*mysd/6**.5\n",
    "print(lower,\",\",upper)\n"
   ]
  },
  {
   "cell_type": "markdown",
   "id": "026d07a6",
   "metadata": {},
   "source": [
    "<b> Problem 17:\n",
    "A random sample of 16 fields of spring wheat has a mean yield of 46.4 bushels per acre and standard deviation of 2.45 bushels per acre.  Determine the 80% confidence interval for the true mean yield.  Assume the population is normally distributed.  \n",
    "\n",
    "    Step 1. Find the critical value that should be used in constructing the confidence interval. (Round answer to 3 decimal places) \n",
    "    Step 2. Construct the 80% confidence interval. (Round answer to 1 decimal place)\n",
    "    Lower bound:\n",
    "    Upper bound:\n"
   ]
  },
  {
   "cell_type": "code",
   "execution_count": 21,
   "id": "7042bfe4",
   "metadata": {},
   "outputs": [
    {
     "data": {
      "text/plain": [
       "1.2815515655446004"
      ]
     },
     "execution_count": 21,
     "metadata": {},
     "output_type": "execute_result"
    }
   ],
   "source": [
    "#Problem 17 step 1\n",
    "norm.ppf(0.9)# 80% confidence level"
   ]
  },
  {
   "cell_type": "code",
   "execution_count": 22,
   "id": "940e0e1a",
   "metadata": {},
   "outputs": [
    {
     "name": "stdout",
     "output_type": "stream",
     "text": [
      "45.61504966610393 4.117706052119604\n"
     ]
    }
   ],
   "source": [
    "#Problem 17 Step 2\n",
    "print(norm.ppf(.1,46.4, 2.45/np.sqrt(16)),norm.ppf(.9,3.9, 2.45/np.sqrt(208)))"
   ]
  },
  {
   "cell_type": "markdown",
   "id": "65523f1d",
   "metadata": {},
   "source": [
    "<b> Problem 18:\n",
    "A toy manufacturer wants to know how many new toys children buy each year.  She thinks the mean is 8 toys per year.  Assume a previous study found the standard deviation to be 1.9.  How large of a sample would be required in order to estimate the mean number of toys bought per child at the 99% confidence level with an error of at most 0.13 toys? (Round your answer up to the next integer)."
   ]
  },
  {
   "cell_type": "markdown",
   "id": "6376e68b",
   "metadata": {},
   "source": [
    "#Problem 18\n",
    "\n",
    "99%\tz = 2.576\n",
    "\n",
    "Question States***\n",
    "\n",
    "ME = 1.96*1.5/sqrt(50) "
   ]
  },
  {
   "cell_type": "markdown",
   "id": "18b245cb",
   "metadata": {},
   "source": [
    "<b> Problem 19:\n",
    "A research scientist wants to know how many times per hour a certain strand of bacteria reproduces.  He believes that the mean is 12.6.  Assume the variance is known to be 3.61.  How large of a sample would be required in order to estimate the mean number of reproductions per hour at the 95% confidence level with an error of at most 0.19 reproductions? (Round your answer up to the next integer)\n",
    "\n"
   ]
  },
  {
   "cell_type": "code",
   "execution_count": 23,
   "id": "f1c41930",
   "metadata": {},
   "outputs": [],
   "source": [
    "#Problem 19 not sure\n",
    "\n",
    "print(norm.ppf(.025,12.6,1.9/np.sqrt(7472)),norm.ppf(.97,12.6,1.9/np.sqrt(7472)))"
   ]
  },
  {
   "cell_type": "markdown",
   "id": "4bc1cc64",
   "metadata": {},
   "source": [
    "<b> Problem 20:\n",
    "The state education commission wants to estimate the fraction of tenth grade students that have reading skills at or below the eighth grade level.\n",
    "\n",
    "Step 1. Suppose a sample of 2089 tenth graders is drawn. Of the students sampled, 1734 read above the eighth grade level.  Using the data, estimate the proportion of tenth graders reading at or below the eighth grade level. (Write your answer as a fraction or a decimal number rounded to 3 decimal places) \n",
    "\n",
    "\n",
    "Step 2. Suppose a sample of 2089 tenth graders is drawn.  Of the students sampled, 1734 read above the eighth grade level.  Using the data, construct the 98% confidence interval for the population proportion of tenth graders reading at or below the eighth grade level. (Round your answers to 3 decimal places)\n",
    "    Lower bound:\n",
    "    Upper bound:"
   ]
  },
  {
   "cell_type": "code",
   "execution_count": 24,
   "id": "1f98b848",
   "metadata": {},
   "outputs": [],
   "source": [
    "#Problem 20\n"
   ]
  },
  {
   "cell_type": "markdown",
   "id": "95b30452",
   "metadata": {},
   "source": [
    "<b> Problem 21\n",
    "An environmentalist wants to find out the fraction of oil tankers that have spills each month.\n",
    "Step 1. Suppose a sample of 474 tankers is drawn.  Of these ships, 156 had spills.  Using the data, estimate the proportion of oil tankers that had spills. (Write your answer as a fraction or a decimal number rounded to 3 decimal places) \n",
    "\n"
   ]
  },
  {
   "cell_type": "code",
   "execution_count": 56,
   "id": "8017b2f7",
   "metadata": {},
   "outputs": [
    {
     "name": "stdout",
     "output_type": "stream",
     "text": [
      "0.3291139240506329\n"
     ]
    }
   ],
   "source": [
    "##Problem 21\n",
    "\n",
    "samplesize = 474\n",
    "spills = 156\n",
    "\n",
    "Proportionspilled  = spills/samplesize\n",
    "print(Proportionspilled) "
   ]
  }
 ],
 "metadata": {
  "kernelspec": {
   "display_name": "Python 3 (ipykernel)",
   "language": "python",
   "name": "python3"
  },
  "language_info": {
   "codemirror_mode": {
    "name": "ipython",
    "version": 3
   },
   "file_extension": ".py",
   "mimetype": "text/x-python",
   "name": "python",
   "nbconvert_exporter": "python",
   "pygments_lexer": "ipython3",
   "version": "3.9.7"
  }
 },
 "nbformat": 4,
 "nbformat_minor": 5
}
